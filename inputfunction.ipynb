{
 "cells": [
  {
   "cell_type": "code",
   "execution_count": 3,
   "metadata": {},
   "outputs": [],
   "source": [
    "a=input(\"Enter your 4 digit atm pin :\")"
   ]
  },
  {
   "cell_type": "code",
   "execution_count": 5,
   "metadata": {},
   "outputs": [
    {
     "name": "stdout",
     "output_type": "stream",
     "text": [
      "9807 <class 'str'>\n"
     ]
    }
   ],
   "source": [
    "print(a, type(a))"
   ]
  },
  {
   "cell_type": "code",
   "execution_count": 6,
   "metadata": {},
   "outputs": [
    {
     "data": {
      "text/plain": [
       "'9807'"
      ]
     },
     "execution_count": 6,
     "metadata": {},
     "output_type": "execute_result"
    }
   ],
   "source": [
    "a"
   ]
  },
  {
   "cell_type": "code",
   "execution_count": 10,
   "metadata": {},
   "outputs": [
    {
     "name": "stdout",
     "output_type": "stream",
     "text": [
      "10 <class 'str'>\n",
      "20 <class 'str'>\n",
      "1020\n"
     ]
    }
   ],
   "source": [
    "a=input(\"Enter your number1 :\")\n",
    "print(a,type(a))\n",
    "b=input(\"Enter your number2 :\")\n",
    "print(b,type(b))\n",
    "print(a+b)"
   ]
  },
  {
   "cell_type": "code",
   "execution_count": 11,
   "metadata": {},
   "outputs": [
    {
     "name": "stdout",
     "output_type": "stream",
     "text": [
      "10 <class 'int'>\n",
      "20 <class 'str'>\n"
     ]
    },
    {
     "ename": "TypeError",
     "evalue": "unsupported operand type(s) for +: 'int' and 'str'",
     "output_type": "error",
     "traceback": [
      "\u001b[1;31m---------------------------------------------------------------------------\u001b[0m",
      "\u001b[1;31mTypeError\u001b[0m                                 Traceback (most recent call last)",
      "Cell \u001b[1;32mIn[11], line 5\u001b[0m\n\u001b[0;32m      3\u001b[0m b\u001b[39m=\u001b[39m\u001b[39minput\u001b[39m(\u001b[39m\"\u001b[39m\u001b[39mEnter your number2 :\u001b[39m\u001b[39m\"\u001b[39m)\n\u001b[0;32m      4\u001b[0m \u001b[39mprint\u001b[39m(b,\u001b[39mtype\u001b[39m(b))\n\u001b[1;32m----> 5\u001b[0m \u001b[39mprint\u001b[39m(a\u001b[39m+\u001b[39;49mb)\n",
      "\u001b[1;31mTypeError\u001b[0m: unsupported operand type(s) for +: 'int' and 'str'"
     ]
    }
   ],
   "source": [
    "a=int(input(\"Enter your number1 :\"))\n",
    "print(a,type(a))\n",
    "b=input(\"Enter your number2 :\")\n",
    "print(b,type(b))\n",
    "print(a+b)"
   ]
  },
  {
   "cell_type": "code",
   "execution_count": 12,
   "metadata": {},
   "outputs": [
    {
     "name": "stdout",
     "output_type": "stream",
     "text": [
      "10 <class 'int'>\n",
      "20 <class 'int'>\n",
      "30\n"
     ]
    }
   ],
   "source": [
    "a=int(input(\"Enter your number1 :\"))\n",
    "print(a,type(a))\n",
    "b=int(input(\"Enter your number2 :\"))\n",
    "print(b,type(b))\n",
    "print(a+b)   #30"
   ]
  },
  {
   "cell_type": "code",
   "execution_count": 13,
   "metadata": {},
   "outputs": [
    {
     "ename": "ValueError",
     "evalue": "invalid literal for int() with base 10: '10.0'",
     "output_type": "error",
     "traceback": [
      "\u001b[1;31m---------------------------------------------------------------------------\u001b[0m",
      "\u001b[1;31mValueError\u001b[0m                                Traceback (most recent call last)",
      "Cell \u001b[1;32mIn[13], line 1\u001b[0m\n\u001b[1;32m----> 1\u001b[0m a\u001b[39m=\u001b[39m\u001b[39mint\u001b[39;49m(\u001b[39minput\u001b[39;49m(\u001b[39m\"\u001b[39;49m\u001b[39mEnter your number1 :\u001b[39;49m\u001b[39m\"\u001b[39;49m))\n\u001b[0;32m      2\u001b[0m \u001b[39mprint\u001b[39m(a,\u001b[39mtype\u001b[39m(a))\n\u001b[0;32m      3\u001b[0m b\u001b[39m=\u001b[39m\u001b[39mint\u001b[39m(\u001b[39minput\u001b[39m(\u001b[39m\"\u001b[39m\u001b[39mEnter your number2 :\u001b[39m\u001b[39m\"\u001b[39m))\n",
      "\u001b[1;31mValueError\u001b[0m: invalid literal for int() with base 10: '10.0'"
     ]
    }
   ],
   "source": [
    "a=int(input(\"Enter your number1 :\"))\n",
    "print(a,type(a))\n",
    "b=int(input(\"Enter your number2 :\"))\n",
    "print(b,type(b))\n",
    "print(a+b)"
   ]
  },
  {
   "cell_type": "code",
   "execution_count": 15,
   "metadata": {},
   "outputs": [
    {
     "name": "stdout",
     "output_type": "stream",
     "text": [
      "10.5 <class 'float'>\n",
      "20.4 <class 'float'>\n",
      "30.9\n"
     ]
    }
   ],
   "source": [
    "a=float(input(\"Enter your number1 :\"))\n",
    "print(a,type(a))\n",
    "b=float(input(\"Enter your number2 :\"))\n",
    "print(b,type(b))\n",
    "print(a+b)"
   ]
  },
  {
   "cell_type": "code",
   "execution_count": 16,
   "metadata": {},
   "outputs": [
    {
     "name": "stdout",
     "output_type": "stream",
     "text": [
      "10.0 <class 'float'>\n",
      "20.0 <class 'float'>\n",
      "30.0\n"
     ]
    }
   ],
   "source": [
    "a=float(input(\"Enter your number1 :\"))\n",
    "print(a,type(a))\n",
    "b=float(input(\"Enter your number2 :\"))\n",
    "print(b,type(b))\n",
    "print(a+b)"
   ]
  },
  {
   "cell_type": "code",
   "execution_count": 17,
   "metadata": {},
   "outputs": [
    {
     "name": "stdout",
     "output_type": "stream",
     "text": [
      "10 <class 'int'>\n",
      "20.2 <class 'float'>\n",
      "30.2\n"
     ]
    }
   ],
   "source": [
    "a=eval(input(\"Enter your number1 :\"))\n",
    "print(a,type(a))\n",
    "b=eval(input(\"Enter your number2 :\"))\n",
    "print(b,type(b))\n",
    "print(a+b)"
   ]
  },
  {
   "cell_type": "code",
   "execution_count": 18,
   "metadata": {},
   "outputs": [],
   "source": [
    "# +,-,/,*  nnkrishna714ducat@gmail.com"
   ]
  },
  {
   "cell_type": "code",
   "execution_count": 25,
   "metadata": {},
   "outputs": [
    {
     "name": "stdout",
     "output_type": "stream",
     "text": [
      "Let's go somewhere :\n",
      "Yes are going to Goa\n"
     ]
    }
   ],
   "source": [
    "krishna=\"Let's go somewhere :\"\n",
    "\n",
    "print(krishna)\n",
    "krishna=input(\"Let's toss and decide if head will come we will go to Goa else go to Kashmir :\")\n",
    "\n",
    "if krishna.casefold()=='head':\n",
    "    print(\"Yes are going to Goa\")\n",
    "else:\n",
    "    print(\"We are going to Kashmir\")"
   ]
  },
  {
   "cell_type": "code",
   "execution_count": 28,
   "metadata": {},
   "outputs": [
    {
     "name": "stdout",
     "output_type": "stream",
     "text": [
      "Let's go somewhere :\n",
      "We are going to Kashmir\n"
     ]
    }
   ],
   "source": [
    "# elif\n",
    "krishna=\"Let's go somewhere :\"\n",
    "\n",
    "print(krishna)\n",
    "krishna=input(\"Let's toss and decide if head will come we will go to Goa else go to Kashmir :\")\n",
    "\n",
    "if krishna.casefold()=='head':\n",
    "    print(\"Yes are going to Goa\")\n",
    "elif krishna.casefold()=='tail':\n",
    "    print(\"We are going to Kashmir\")\n",
    "else:\n",
    "    print(\"Dead end\")\n",
    "    "
   ]
  },
  {
   "cell_type": "code",
   "execution_count": 30,
   "metadata": {},
   "outputs": [
    {
     "name": "stdout",
     "output_type": "stream",
     "text": [
      "Let's go somewhere :\n",
      "tail\n",
      "We are going to Kashmir\n"
     ]
    }
   ],
   "source": [
    "# elif\n",
    "krishna=\"Let's go somewhere :\"\n",
    "\n",
    "print(krishna)\n",
    "krishna=input(\"Let's toss and decide if head will come we will go to Goa else go to Kashmir :\").casefold()\n",
    "print(krishna)\n",
    "if krishna=='head':\n",
    "    print(\"Yes are going to Goa\")\n",
    "elif krishna=='tail':\n",
    "    print(\"We are going to Kashmir\")\n",
    "else:\n",
    "    print(\"Dead end\")"
   ]
  },
  {
   "cell_type": "code",
   "execution_count": 31,
   "metadata": {},
   "outputs": [
    {
     "name": "stdout",
     "output_type": "stream",
     "text": [
      "Let's go somewhere :\n",
      "pune\n",
      "we are going to Pune\n"
     ]
    }
   ],
   "source": [
    "# multiple elif\n",
    "krishna=\"Let's go somewhere :\"\n",
    "\n",
    "print(krishna)\n",
    "krishna=input(\"Let's toss and decide if head will come we will go to Goa else go to Kashmir :\").casefold()\n",
    "print(krishna)\n",
    "if krishna=='head':\n",
    "    print(\"Yes are going to Goa\")\n",
    "elif krishna=='tail':\n",
    "    print(\"We are going to Kashmir\")\n",
    "elif krishna ==\"pune\":\n",
    "    print(\"we are going to Pune\")\n",
    "else:\n",
    "    print(\"Dead end\")"
   ]
  },
  {
   "cell_type": "code",
   "execution_count": 32,
   "metadata": {},
   "outputs": [
    {
     "name": "stdout",
     "output_type": "stream",
     "text": [
      "Let's go somewhere :\n",
      "pune\n",
      "Yes are going to Goa\n"
     ]
    }
   ],
   "source": [
    "# multiple elif\n",
    "krishna=\"Let's go somewhere :\"\n",
    "\n",
    "print(krishna)\n",
    "krishna=input(\"Let's toss and decide if head will come we will go to Goa else go to Kashmir :\").casefold()\n",
    "print(krishna)\n",
    "if krishna=='pune':\n",
    "    print(\"Yes are going to Goa\")\n",
    "elif krishna=='pune':\n",
    "    print(\"We are going to Kashmir\")\n",
    "elif krishna ==\"pune\":\n",
    "    print(\"we are going to Pune\")\n",
    "else:\n",
    "    print(\"Dead end\")"
   ]
  },
  {
   "cell_type": "code",
   "execution_count": 33,
   "metadata": {},
   "outputs": [
    {
     "name": "stdout",
     "output_type": "stream",
     "text": [
      "Let's go somewhere :\n",
      "pune\n",
      "Yes are going to Goa\n",
      "We are going to Kashmir\n",
      "we are going to Pune\n"
     ]
    }
   ],
   "source": [
    "# multiple elif  this is an error \n",
    "krishna=\"Let's go somewhere :\"\n",
    "\n",
    "print(krishna)\n",
    "krishna=input(\"Let's toss and decide if head will come we will go to Goa else go to Kashmir :\").casefold()\n",
    "print(krishna)\n",
    "if krishna=='pune':\n",
    "    print(\"Yes are going to Goa\")\n",
    "if krishna=='pune':\n",
    "    print(\"We are going to Kashmir\")\n",
    "if krishna ==\"pune\":\n",
    "    print(\"we are going to Pune\")\n",
    "else:\n",
    "    print(\"Dead end\")"
   ]
  },
  {
   "cell_type": "code",
   "execution_count": 35,
   "metadata": {},
   "outputs": [
    {
     "name": "stdout",
     "output_type": "stream",
     "text": [
      "Let's go somewhere :\n",
      "pune\n",
      "Yes are going to Goa\n",
      "we will have bear\n"
     ]
    }
   ],
   "source": [
    "# multiple elif\n",
    "krishna=\"Let's go somewhere :\"\n",
    "\n",
    "print(krishna)\n",
    "krishna=input(\"Let's go to :\").casefold()\n",
    "print(krishna)\n",
    "if krishna=='goa':\n",
    " print(\"Yes are going to Goa\")\n",
    " print(\"we will have bear\")\n",
    "elif krishna=='kashmir':\n",
    "    print(\"We are going to Kashmir\")\n",
    "elif krishna ==\"pune\":\n",
    "    print(\"we are going to Pune\")\n",
    "else:\n",
    "    print(\"Dead end\")"
   ]
  },
  {
   "cell_type": "code",
   "execution_count": null,
   "metadata": {},
   "outputs": [],
   "source": [
    "# Nested if else \n",
    "\n",
    "Syntex:\n",
    "\n",
    "if condition:\n",
    "    statement(s)\n",
    "else:\n",
    "    statement(s)"
   ]
  },
  {
   "cell_type": "code",
   "execution_count": 1,
   "metadata": {},
   "outputs": [
    {
     "name": "stdout",
     "output_type": "stream",
     "text": [
      "5\n"
     ]
    }
   ],
   "source": [
    "num1=int(input(\"Enter your first number :\"))  #2\n",
    "num2=int(input(\"Enter your second number :\"))  #3\n",
    "operation=input(\"Kindly choose your desired operation +,- :\") #+\n",
    "\n",
    "if operation==\"+\":  #true\n",
    "    print(num1+num2)\n",
    "\n",
    "else:\n",
    "    print(num1-num2)\n"
   ]
  },
  {
   "cell_type": "code",
   "execution_count": 4,
   "metadata": {},
   "outputs": [
    {
     "ename": "ValueError",
     "evalue": "invalid literal for int() with base 10: 'krishna'",
     "output_type": "error",
     "traceback": [
      "\u001b[1;31m---------------------------------------------------------------------------\u001b[0m",
      "\u001b[1;31mValueError\u001b[0m                                Traceback (most recent call last)",
      "Cell \u001b[1;32mIn[4], line 1\u001b[0m\n\u001b[1;32m----> 1\u001b[0m num1\u001b[39m=\u001b[39m\u001b[39mint\u001b[39;49m(\u001b[39minput\u001b[39;49m(\u001b[39m\"\u001b[39;49m\u001b[39mEnter your first number :\u001b[39;49m\u001b[39m\"\u001b[39;49m))  \u001b[39m#2\u001b[39;00m\n\u001b[0;32m      2\u001b[0m num2\u001b[39m=\u001b[39m\u001b[39mint\u001b[39m(\u001b[39minput\u001b[39m(\u001b[39m\"\u001b[39m\u001b[39mEnter your second number :\u001b[39m\u001b[39m\"\u001b[39m))  \u001b[39m#3\u001b[39;00m\n\u001b[0;32m      3\u001b[0m operation\u001b[39m=\u001b[39m\u001b[39minput\u001b[39m(\u001b[39m\"\u001b[39m\u001b[39mKindly choose your desired operation +,- :\u001b[39m\u001b[39m\"\u001b[39m) \u001b[39m#+\u001b[39;00m\n",
      "\u001b[1;31mValueError\u001b[0m: invalid literal for int() with base 10: 'krishna'"
     ]
    }
   ],
   "source": [
    "num1=int(input(\"Enter your first number :\"))  #2\n",
    "num2=int(input(\"Enter your second number :\"))  #3\n",
    "operation=input(\"Kindly choose your desired operation +,- :\") #+\n",
    "\n",
    "if operation==\"+\":  #true\n",
    "    print(num1+num2)\n",
    "\n",
    "else:\n",
    "    print(num1-num2)"
   ]
  },
  {
   "cell_type": "code",
   "execution_count": 5,
   "metadata": {},
   "outputs": [
    {
     "name": "stdout",
     "output_type": "stream",
     "text": [
      "-1\n"
     ]
    }
   ],
   "source": [
    "num1=int(input(\"Enter your first number :\"))  #2\n",
    "num2=int(input(\"Enter your second number :\"))  #3\n",
    "operation=input(\"Kindly choose your desired operation +,- :\") #+\n",
    "\n",
    "if operation==\"+\":  #true\n",
    "    print(num1+num2)\n",
    "\n",
    "else:\n",
    "    print(num1-num2)\n"
   ]
  },
  {
   "cell_type": "code",
   "execution_count": 8,
   "metadata": {},
   "outputs": [
    {
     "ename": "ValueError",
     "evalue": "invalid literal for int() with base 10: 'krishna'",
     "output_type": "error",
     "traceback": [
      "\u001b[1;31m---------------------------------------------------------------------------\u001b[0m",
      "\u001b[1;31mValueError\u001b[0m                                Traceback (most recent call last)",
      "Cell \u001b[1;32mIn[8], line 6\u001b[0m\n\u001b[0;32m      3\u001b[0m operation\u001b[39m=\u001b[39m\u001b[39minput\u001b[39m(\u001b[39m\"\u001b[39m\u001b[39mKindly choose your desired operation +,- :\u001b[39m\u001b[39m\"\u001b[39m) \u001b[39m#'+'\u001b[39;00m\n\u001b[0;32m      5\u001b[0m \u001b[39mif\u001b[39;00m operation\u001b[39m==\u001b[39m\u001b[39m\"\u001b[39m\u001b[39m+\u001b[39m\u001b[39m\"\u001b[39m:  \u001b[39m#true\u001b[39;00m\n\u001b[1;32m----> 6\u001b[0m     \u001b[39mprint\u001b[39m(\u001b[39mint\u001b[39;49m(num1)\u001b[39m+\u001b[39m\u001b[39mint\u001b[39m(num2))\n\u001b[0;32m      8\u001b[0m \u001b[39melse\u001b[39;00m:\n\u001b[0;32m      9\u001b[0m     \u001b[39mprint\u001b[39m(\u001b[39mint\u001b[39m(num1)\u001b[39m-\u001b[39m\u001b[39mint\u001b[39m(num2))\n",
      "\u001b[1;31mValueError\u001b[0m: invalid literal for int() with base 10: 'krishna'"
     ]
    }
   ],
   "source": [
    "num1=input(\"Enter your first number :\")  #'2'\n",
    "num2=input(\"Enter your second number :\")  #'3'\n",
    "operation=input(\"Kindly choose your desired operation +,- :\") #'+'\n",
    "\n",
    "if operation==\"+\":  #true\n",
    "    print(int(num1)+int(num2))\n",
    "\n",
    "else:\n",
    "    print(int(num1)-int(num2))\n"
   ]
  },
  {
   "cell_type": "code",
   "execution_count": null,
   "metadata": {},
   "outputs": [],
   "source": [
    "num1=input(\"Enter your first number :\")  #'2'\n",
    "num2=input(\"Enter your second number :\")  #'3'\n",
    "operation=input(\"Kindly choose your desired operation +,- :\") #'+'\n",
    "\n",
    "if operation==\"+\":  #true\n",
    "    if num1.isalpha:\n",
    "        print(int(num1)+int(num2))\n",
    "    else:\n",
    "        statements\n",
    "else:\n",
    "    print(int(num1)-int(num2))"
   ]
  },
  {
   "cell_type": "code",
   "execution_count": null,
   "metadata": {},
   "outputs": [],
   "source": []
  },
  {
   "cell_type": "code",
   "execution_count": 9,
   "metadata": {},
   "outputs": [
    {
     "data": {
      "text/plain": [
       "True"
      ]
     },
     "execution_count": 9,
     "metadata": {},
     "output_type": "execute_result"
    }
   ],
   "source": [
    "a=\"krishna\"\n",
    "a.isalpha()"
   ]
  },
  {
   "cell_type": "code",
   "execution_count": 10,
   "metadata": {},
   "outputs": [
    {
     "data": {
      "text/plain": [
       "False"
      ]
     },
     "execution_count": 10,
     "metadata": {},
     "output_type": "execute_result"
    }
   ],
   "source": [
    "d=\"krishna10\"\n",
    "d.isalpha()"
   ]
  },
  {
   "cell_type": "code",
   "execution_count": 14,
   "metadata": {},
   "outputs": [
    {
     "name": "stdout",
     "output_type": "stream",
     "text": [
      "num2 is greater\n",
      "num2 is bigger then num3\n"
     ]
    }
   ],
   "source": [
    "num1=int(input(\"Enter your first number :\"))  #'2'\n",
    "num2=int(input(\"Enter your second number :\"))\n",
    "\n",
    "if num1<num2:  #2<3 --> True\n",
    "    print(\"num2 is greater\")   #print\n",
    "    num3=int(input(\"Enter third number:\")) #1\n",
    "    if num2<num3:#3<1  --> False\n",
    "        print(\"num3 is bigger then num2\")\n",
    "    else:\n",
    "        print(\"num2 is bigger then num3\")  #print\n",
    "\n",
    "else: \n",
    "    print(\"num1 is greater\")"
   ]
  },
  {
   "cell_type": "code",
   "execution_count": 15,
   "metadata": {},
   "outputs": [
    {
     "name": "stdout",
     "output_type": "stream",
     "text": [
      "2\n",
      "3\n",
      "1\n"
     ]
    }
   ],
   "source": [
    "print(num1)\n",
    "print(num2)\n",
    "print(num3)"
   ]
  },
  {
   "cell_type": "code",
   "execution_count": 16,
   "metadata": {},
   "outputs": [],
   "source": [
    "num1=int(input(\"Enter your first number :\"))  #'2'\n",
    "num2=int(input(\"Enter your second number :\"))\n",
    "\n",
    "if num1<num2:  #4<2 --> false\n",
    "    print(\"num2 is greater\")   #print\n",
    "    num3=int(input(\"Enter third number:\")) #1\n",
    "    if num2<num3:#3<1  --> False\n",
    "        print(\"num3 is bigger then num2\")\n"
   ]
  },
  {
   "cell_type": "code",
   "execution_count": 17,
   "metadata": {},
   "outputs": [
    {
     "name": "stdout",
     "output_type": "stream",
     "text": [
      "num2 is greater\n",
      "num3 is bigger then num2\n"
     ]
    }
   ],
   "source": [
    "num1=int(input(\"Enter your first number :\"))  #'2'\n",
    "num2=int(input(\"Enter your second number :\"))\n",
    "\n",
    "if num1<num2:  #4<5 --> True\n",
    "    print(\"num2 is greater\")   #print\n",
    "    num3=int(input(\"Enter third number:\")) #10\n",
    "    if num2<num3:#5<10  --> True\n",
    "        print(\"num3 is bigger then num2\")\n"
   ]
  },
  {
   "cell_type": "code",
   "execution_count": 18,
   "metadata": {},
   "outputs": [
    {
     "name": "stdout",
     "output_type": "stream",
     "text": [
      "num2 is greater\n"
     ]
    }
   ],
   "source": [
    "num1=int(input(\"Enter your first number :\"))  #'2'\n",
    "num2=int(input(\"Enter your second number :\"))\n",
    "\n",
    "if num1<num2:  #4<5 --> True\n",
    "    print(\"num2 is greater\")   #print\n",
    "    num3=int(input(\"Enter third number:\")) #\n",
    "    if num2<num3:#5<1  --> False\n",
    "        print(\"num3 is bigger then num2\")\n"
   ]
  },
  {
   "cell_type": "code",
   "execution_count": 1,
   "metadata": {},
   "outputs": [],
   "source": [
    "#Nesting of else"
   ]
  },
  {
   "cell_type": "code",
   "execution_count": 2,
   "metadata": {},
   "outputs": [
    {
     "name": "stdout",
     "output_type": "stream",
     "text": [
      "num2 is greater\n",
      "num3 is bigger then num2\n"
     ]
    }
   ],
   "source": [
    "num1=int(input(\"Enter your first number :\"))  #'2'\n",
    "num2=int(input(\"Enter your second number :\"))\n",
    "\n",
    "if num1<num2:  #4<5 --> True\n",
    "    print(\"num2 is greater\")   #print\n",
    "    num3=int(input(\"Enter third number:\")) #\n",
    "    if num2<num3:#5<1  --> False\n",
    "        print(\"num3 is bigger then num2\")\n",
    "        "
   ]
  },
  {
   "cell_type": "code",
   "execution_count": 3,
   "metadata": {},
   "outputs": [
    {
     "name": "stdout",
     "output_type": "stream",
     "text": [
      "Hello\n"
     ]
    }
   ],
   "source": [
    "num1=int(input(\"Enter your first number :\"))  #'2'\n",
    "num2=int(input(\"Enter your second number :\"))\n",
    "\n",
    "if num1<num2:  #4<5 --> True\n",
    "    print(\"num2 is greater\")   #print\n",
    "    num3=int(input(\"Enter third number:\")) #\n",
    "    if num2<num3:#5<1  --> False\n",
    "        print(\"num3 is bigger then num2\")\n",
    "else:\n",
    "    print(\"Hello\")"
   ]
  },
  {
   "cell_type": "code",
   "execution_count": 4,
   "metadata": {},
   "outputs": [
    {
     "name": "stdout",
     "output_type": "stream",
     "text": [
      "Hello\n"
     ]
    }
   ],
   "source": [
    "num1=int(input(\"Enter your first number :\"))  #10\n",
    "num2=int(input(\"Enter your second number :\"))  #5\n",
    "\n",
    "if num1<num2:  #4<5 --> True\n",
    "    print(\"num2 is greater\")   #print\n",
    "    num3=int(input(\"Enter third number:\")) #\n",
    "    if num2<num3:#5<1  --> False\n",
    "        print(\"num3 is bigger then num2\")\n",
    "else:\n",
    "    num4=int(input(\"Enter 4th number :\"))  #11\n",
    "    if (num1<num4):  #10<11\n",
    "        print(\"Hello\")\n",
    "    else:\n",
    "        print(\"Bye\")"
   ]
  },
  {
   "cell_type": "code",
   "execution_count": 5,
   "metadata": {},
   "outputs": [
    {
     "name": "stdout",
     "output_type": "stream",
     "text": [
      "Bye\n"
     ]
    }
   ],
   "source": [
    "num1=int(input(\"Enter your first number :\"))  #10\n",
    "num2=int(input(\"Enter your second number :\"))  #9\n",
    "\n",
    "if num1<num2:# 10<9 -->False\n",
    "    print(\"num2 is greater\")   #\n",
    "    num3=int(input(\"Enter third number:\")) #\n",
    "    if num2<num3:#\n",
    "        print(\"num3 is bigger then num2\")\n",
    "else:\n",
    "    num4=int(input(\"Enter 4th number :\"))  #9\n",
    "    if (num1<num4):  #10<9  -->False\n",
    "        print(\"Hello\")\n",
    "    else:\n",
    "        print(\"Bye\")"
   ]
  },
  {
   "cell_type": "code",
   "execution_count": 7,
   "metadata": {},
   "outputs": [
    {
     "name": "stdout",
     "output_type": "stream",
     "text": [
      "options are: \n",
      "a:0\n",
      "b:1\n",
      "c:2\n",
      "d:None of the above\n",
      "a is right answer.\n"
     ]
    }
   ],
   "source": [
    "krishna=input(\"1 is greater then ?:\")\n",
    "print(\"\"\"options are: \n",
    "a:0\n",
    "b:1\n",
    "c:2\n",
    "d:None of the above\"\"\")\n",
    "\n",
    "if (krishna==\"a\"):\n",
    "    print(\"a is right answer.\")\n",
    "elif krishna==\"a\":\n",
    "    print(\"b is right answer\")\n",
    "elif krishna==\"c\":\n",
    "    print(\"c is right answer\")\n",
    "elif krishna==\"d\":\n",
    "    print(\"d is right answer\")\n",
    "else:\n",
    "    print(\"Phone a friend\")\n",
    "\n"
   ]
  },
  {
   "cell_type": "code",
   "execution_count": 10,
   "metadata": {},
   "outputs": [
    {
     "name": "stdout",
     "output_type": "stream",
     "text": [
      "options are: \n",
      "a:0\n",
      "b:1\n",
      "c:2\n",
      "d:None of the above\n",
      "c is right answer\n"
     ]
    }
   ],
   "source": [
    "krishna=input(\"1 is greater then ?:\")\n",
    "print(\"\"\"options are: \n",
    "a:0\n",
    "b:1\n",
    "c:2\n",
    "d:None of the above\"\"\")\n",
    "\n",
    "if (krishna==\"a\"):\n",
    "    print(\"a is right answer.\")\n",
    "elif krishna==\"b\":\n",
    "    print(\"b is right answer\")\n",
    "elif krishna==\"d\":\n",
    "    print(\"c is right answer\")\n",
    "elif krishna==\"d\":\n",
    "    print(\"d is right answer\")\n",
    "else:\n",
    "    print(\"Phone a friend\")"
   ]
  },
  {
   "cell_type": "code",
   "execution_count": 13,
   "metadata": {},
   "outputs": [
    {
     "name": "stdout",
     "output_type": "stream",
     "text": [
      "0 True\n"
     ]
    }
   ],
   "source": [
    "num1=int(input(\"Check number :\"))\n",
    "c=0\n",
    "if num1==c:\n",
    "    print(\"0 True\")\n",
    "    num2=int(input(f\"Check number is greater then {c} or not: \"))\n",
    "    if num2<c:\n",
    "        print(\"c is greater\")\n",
    "    elif\n",
    "        \n",
    "    else\n",
    "elif num1==c:\n",
    "    print(\"1 True\")\n",
    "elif num1==c:\n",
    "    print(\"2 True\")\n",
    "else:\n",
    "    print(\"none of the above \")"
   ]
  },
  {
   "cell_type": "code",
   "execution_count": 1,
   "metadata": {},
   "outputs": [
    {
     "name": "stdout",
     "output_type": "stream",
     "text": [
      "7\n"
     ]
    }
   ],
   "source": [
    "num1=int(input(\"Enter 1st number :\"))  #2\n",
    "num2=int(input(\"Enter 2nd number :\"))  #5\n",
    "option=input(\"Kindly choose your operation +,-,/,*\")  #'+'\n",
    "\n",
    "if(option==\"+\"):\n",
    "    print(num1+num2)\n",
    "elif(option==\"-\"):\n",
    "    print(num1-num2) \n",
    "elif(option==\"/\"):\n",
    "    print(num1/num2)\n",
    "elif(option==\"*\"):\n",
    "    print(num1*num2)\n",
    "else:\n",
    "    print(\"go to hell\")"
   ]
  },
  {
   "cell_type": "code",
   "execution_count": 3,
   "metadata": {},
   "outputs": [
    {
     "name": "stdout",
     "output_type": "stream",
     "text": [
      "3\n"
     ]
    }
   ],
   "source": [
    "num1=int(input(\"Enter 1st number :\"))  #2\n",
    "num2=int(input(\"Enter 2nd number :\"))  #5\n",
    "option=input(\"Kindly choose your operation +,-,/,*\")  #'-'\n",
    "\n",
    "if(option==\"+\"):\n",
    "    print(num1+num2)\n",
    "elif(option==\"-\"):\n",
    "    num1,num2=num2,num1\n",
    "    print(num1-num2) #-3\n",
    "elif(option==\"/\"):\n",
    "    print(num1/num2)\n",
    "elif(option==\"*\"):\n",
    "    print(num1*num2)\n",
    "else:\n",
    "    print(\"go to hell\")"
   ]
  },
  {
   "cell_type": "code",
   "execution_count": 4,
   "metadata": {},
   "outputs": [
    {
     "name": "stdout",
     "output_type": "stream",
     "text": [
      "-3\n"
     ]
    }
   ],
   "source": [
    "num1=int(input(\"Enter 1st number :\"))  #2\n",
    "num2=int(input(\"Enter 2nd number :\"))  #5\n",
    "option=input(\"Kindly choose your operation +,-,/,*\")  #'-'\n",
    "\n",
    "if(option==\"+\"):\n",
    "    print(num1+num2)\n",
    "elif(option==\"-\"):\n",
    "    num1,num2=num2,num1\n",
    "    print(num1-num2) #-3\n",
    "elif(option==\"/\"):\n",
    "    print(num1/num2)\n",
    "elif(option==\"*\"):\n",
    "    print(num1*num2)\n",
    "else:\n",
    "    print(\"go to hell\")"
   ]
  },
  {
   "cell_type": "code",
   "execution_count": 8,
   "metadata": {},
   "outputs": [
    {
     "name": "stdout",
     "output_type": "stream",
     "text": [
      "3\n"
     ]
    }
   ],
   "source": [
    "num1=int(input(\"Enter 1st number :\"))  #2\n",
    "num2=int(input(\"Enter 2nd number :\"))  #5\n",
    "option=input(\"Kindly choose your operation +,-,/,*\")  #'-'\n",
    "\n",
    "if(option==\"+\"):\n",
    "    print(num1+num2)\n",
    "elif(option==\"-\"):\n",
    "    if (num1<num2): \n",
    "        num1,num2=num2,num1\n",
    "        print(num1-num2) #-3\n",
    "    else:\n",
    "        print(num1-num2)\n",
    "elif(option==\"/\"):\n",
    "    print(num1/num2)\n",
    "elif(option==\"*\"):\n",
    "    print(num1*num2)\n",
    "else:\n",
    "    print(\"go to hell\")"
   ]
  },
  {
   "cell_type": "code",
   "execution_count": 9,
   "metadata": {},
   "outputs": [
    {
     "name": "stdout",
     "output_type": "stream",
     "text": [
      "9\n"
     ]
    }
   ],
   "source": [
    "num1=int(input(\"Enter 1st number :\"))  #2\n",
    "num2=int(input(\"Enter 2nd number :\"))  #-11\n",
    "option=input(\"Kindly choose your operation +,-,/,*\")  #'-'\n",
    "\n",
    "if(option==\"+\"):\n",
    "    print(num1+num2)\n",
    "elif(option==\"-\"):\n",
    "    if (num1<num2): \n",
    "        num1,num2=num2,num1\n",
    "        print(num1-num2) #-3\n",
    "    else:\n",
    "        print(num1-num2)\n",
    "elif(option==\"/\"):\n",
    "    print(num1/num2)\n",
    "elif(option==\"*\"):\n",
    "    print(num1*num2)\n",
    "else:\n",
    "    print(\"go to hell\")"
   ]
  },
  {
   "cell_type": "code",
   "execution_count": 12,
   "metadata": {},
   "outputs": [
    {
     "name": "stdout",
     "output_type": "stream",
     "text": [
      "-3\n"
     ]
    }
   ],
   "source": [
    "num1=int(input(\"Enter 1st number :\"))  #2\n",
    "num2=int(input(\"Enter 2nd number :\"))  #5\n",
    "option=input(\"Kindly choose your operation +,-,/,*\")  #'+'\n",
    "\n",
    "if(option==\"+\"):\n",
    "    print(num1+num2)\n",
    "elif(option==\"-\"):\n",
    "    print(num1-num2) \n",
    "elif(option==\"/\"):\n",
    "    print(num1/num2)\n",
    "elif(option==\"*\"):\n",
    "    print(num1*num2)\n",
    "else:\n",
    "    print(\"go to hell\")"
   ]
  },
  {
   "cell_type": "code",
   "execution_count": 13,
   "metadata": {},
   "outputs": [
    {
     "name": "stdout",
     "output_type": "stream",
     "text": [
      "hello world\n",
      "hello world\n",
      "hello world\n",
      "hello world\n",
      "hello world\n"
     ]
    }
   ],
   "source": [
    "# Loop\n",
    "print(\"hello world\")\n",
    "print(\"hello world\")\n",
    "print(\"hello world\")\n",
    "print(\"hello world\")\n",
    "print(\"hello world\")"
   ]
  },
  {
   "cell_type": "code",
   "execution_count": 14,
   "metadata": {},
   "outputs": [],
   "source": [
    "# Loop:\n",
    "\n",
    "# 1. while:--> when number of iteration is not known\n",
    "\n",
    "# 2. for loop :--> when number of iteration is known"
   ]
  },
  {
   "cell_type": "code",
   "execution_count": 15,
   "metadata": {},
   "outputs": [],
   "source": [
    "# while condition:\n",
    "#     statement(s)\n",
    "#     increment/decrement "
   ]
  },
  {
   "cell_type": "code",
   "execution_count": 16,
   "metadata": {},
   "outputs": [
    {
     "name": "stdout",
     "output_type": "stream",
     "text": [
      "hello world\n",
      "hello world\n",
      "hello world\n",
      "hello world\n",
      "hello world\n"
     ]
    }
   ],
   "source": [
    "i=0\n",
    "while i<5:\n",
    "    print(\"hello world\")\n",
    "    i=i+1"
   ]
  },
  {
   "cell_type": "code",
   "execution_count": 18,
   "metadata": {},
   "outputs": [
    {
     "name": "stdout",
     "output_type": "stream",
     "text": [
      "1 hello world\n",
      "2 hello world\n",
      "3 hello world\n",
      "4 hello world\n",
      "5 hello world\n"
     ]
    }
   ],
   "source": [
    "i=0\n",
    "while i<5:\n",
    "    print(i+1,\"hello world\")\n",
    "    i=i+1"
   ]
  },
  {
   "cell_type": "code",
   "execution_count": 1,
   "metadata": {},
   "outputs": [],
   "source": [
    "# whileloop with if condition \n",
    "# while loop with input funtion \n",
    "# while loop with nested if else\n",
    "# while loop with nested if elif else\n",
    "# while loop on datatype\n",
    "# range funtion with while\n"
   ]
  },
  {
   "cell_type": "code",
   "execution_count": 5,
   "metadata": {},
   "outputs": [
    {
     "name": "stdout",
     "output_type": "stream",
     "text": [
      "1 Hello world\n",
      "2 Hello world\n",
      "3 Hello world\n",
      "4 Hello world\n",
      "5 Hello world\n",
      "6 Hello world\n",
      "7 Hello world\n",
      "8 Hello world\n",
      "9 Hello world\n"
     ]
    }
   ],
   "source": [
    "i=1\n",
    "while i<10:\n",
    "    print(i,\"Hello world\")\n",
    "    i=i+1"
   ]
  },
  {
   "cell_type": "code",
   "execution_count": 6,
   "metadata": {},
   "outputs": [
    {
     "name": "stdout",
     "output_type": "stream",
     "text": [
      "1 Hello world\n",
      "2 Hello world\n",
      "3 Hello world\n",
      "4 Hello world\n",
      "5 Hello world\n",
      "6 Hello world\n"
     ]
    }
   ],
   "source": [
    "i=1\n",
    "while i<10:\n",
    "    print(i,\"Hello world\")\n",
    "    if i==6:\n",
    "        break\n",
    "    i=i+1"
   ]
  },
  {
   "cell_type": "code",
   "execution_count": 7,
   "metadata": {},
   "outputs": [
    {
     "name": "stdout",
     "output_type": "stream",
     "text": [
      "1 Hello world\n",
      "2 Hello world\n",
      "3 Hello world\n",
      "4 Hello world\n",
      "5 Hello world\n"
     ]
    }
   ],
   "source": [
    "i=1\n",
    "while i<10:\n",
    "    if i==6:\n",
    "        break\n",
    "    print(i,\"Hello world\")\n",
    "    i=i+1"
   ]
  },
  {
   "cell_type": "code",
   "execution_count": 13,
   "metadata": {},
   "outputs": [
    {
     "name": "stdout",
     "output_type": "stream",
     "text": [
      "1 Hello world\n",
      "2 Hello world\n",
      "3 Hello world\n",
      "4 Hello world\n",
      "5 Hello world\n",
      "6 Hello world\n",
      "7 Hello world\n",
      "8 Hello world\n",
      "9 Hello world\n"
     ]
    }
   ],
   "source": [
    "i=1\n",
    "while i<10:\n",
    "    print(i,\"Hello world\")\n",
    "    i=i+1"
   ]
  },
  {
   "cell_type": "code",
   "execution_count": 16,
   "metadata": {},
   "outputs": [
    {
     "name": "stdout",
     "output_type": "stream",
     "text": [
      "1 Hello world\n",
      "2 Hello world\n"
     ]
    },
    {
     "ename": "KeyboardInterrupt",
     "evalue": "",
     "output_type": "error",
     "traceback": [
      "\u001b[1;31m---------------------------------------------------------------------------\u001b[0m",
      "\u001b[1;31mKeyboardInterrupt\u001b[0m                         Traceback (most recent call last)",
      "Cell \u001b[1;32mIn[16], line 4\u001b[0m\n\u001b[0;32m      2\u001b[0m \u001b[39mwhile\u001b[39;00m i\u001b[39m<\u001b[39m\u001b[39m10\u001b[39m:\n\u001b[0;32m      3\u001b[0m     \u001b[39mif\u001b[39;00m i\u001b[39m==\u001b[39m\u001b[39m3\u001b[39m:\n\u001b[1;32m----> 4\u001b[0m         \u001b[39mcontinue\u001b[39;00m\n\u001b[0;32m      5\u001b[0m         i\u001b[39m=\u001b[39mi\u001b[39m+\u001b[39m\u001b[39m1\u001b[39m\n\u001b[0;32m      6\u001b[0m     \u001b[39mprint\u001b[39m(i,\u001b[39m\"\u001b[39m\u001b[39mHello world\u001b[39m\u001b[39m\"\u001b[39m)\n",
      "\u001b[1;31mKeyboardInterrupt\u001b[0m: "
     ]
    }
   ],
   "source": [
    "i=1\n",
    "while i<10:\n",
    "    if i==3:\n",
    "        continue\n",
    "        i=i+1\n",
    "    print(i,\"Hello world\")\n",
    "    i=i+1"
   ]
  },
  {
   "cell_type": "code",
   "execution_count": 17,
   "metadata": {},
   "outputs": [
    {
     "name": "stdout",
     "output_type": "stream",
     "text": [
      "1 Hello world\n",
      "2 Hello world\n",
      "4 Hello world\n",
      "5 Hello world\n",
      "6 Hello world\n",
      "7 Hello world\n",
      "8 Hello world\n",
      "9 Hello world\n"
     ]
    }
   ],
   "source": [
    "i=1\n",
    "while i<10:\n",
    "    if i==3:\n",
    "        i=i+1\n",
    "        continue\n",
    "    print(i,\"Hello world\")\n",
    "    i=i+1"
   ]
  },
  {
   "cell_type": "code",
   "execution_count": 20,
   "metadata": {},
   "outputs": [
    {
     "name": "stdout",
     "output_type": "stream",
     "text": [
      "1 Hello world\n",
      "2 Hello world\n",
      "4 Hello world\n",
      "5 Hello world\n",
      "6 Hello world\n",
      "7 Hello world\n",
      "8 Hello world\n",
      "9 Hello world\n"
     ]
    }
   ],
   "source": [
    "i=1\n",
    "while i<10:\n",
    "    i=i+1\n",
    "    if i-1==3:\n",
    "        continue\n",
    "    print(i-1,\"Hello world\")"
   ]
  },
  {
   "cell_type": "code",
   "execution_count": 21,
   "metadata": {},
   "outputs": [
    {
     "name": "stdout",
     "output_type": "stream",
     "text": [
      "\n",
      "Here is a list of the Python keywords.  Enter any keyword to get more help.\n",
      "\n",
      "False               class               from                or\n",
      "None                continue            global              pass\n",
      "True                def                 if                  raise\n",
      "and                 del                 import              return\n",
      "as                  elif                in                  try\n",
      "assert              else                is                  while\n",
      "async               except              lambda              with\n",
      "await               finally             nonlocal            yield\n",
      "break               for                 not                 \n",
      "\n"
     ]
    }
   ],
   "source": [
    "help(\"keywords\")"
   ]
  },
  {
   "cell_type": "code",
   "execution_count": 1,
   "metadata": {},
   "outputs": [],
   "source": [
    "# break --> stop while loop at any specifice point we use break keyword\n",
    "\n",
    "# continue --> skip any specific iteration"
   ]
  },
  {
   "cell_type": "code",
   "execution_count": 8,
   "metadata": {},
   "outputs": [
    {
     "name": "stdout",
     "output_type": "stream",
     "text": [
      "1\n",
      "3\n",
      "4\n",
      "5\n"
     ]
    }
   ],
   "source": [
    "i=1\n",
    "while i<10:\n",
    "    if i==2:\n",
    "        i+=1\n",
    "        continue\n",
    "    print(i)\n",
    "    if i==5:\n",
    "        break\n",
    "    i+=1"
   ]
  },
  {
   "cell_type": "code",
   "execution_count": 14,
   "metadata": {},
   "outputs": [
    {
     "name": "stdout",
     "output_type": "stream",
     "text": [
      "bye\n"
     ]
    }
   ],
   "source": [
    "if 1>10:\n",
    "    pass\n",
    "else:\n",
    "    print(\"bye\")"
   ]
  },
  {
   "cell_type": "code",
   "execution_count": 16,
   "metadata": {},
   "outputs": [],
   "source": [
    "i=10\n",
    "while i<11:\n",
    "    pass\n",
    "    i+=1"
   ]
  },
  {
   "cell_type": "code",
   "execution_count": 17,
   "metadata": {},
   "outputs": [],
   "source": [
    "# for loop --> when number of iteration known"
   ]
  },
  {
   "cell_type": "code",
   "execution_count": 18,
   "metadata": {},
   "outputs": [
    {
     "name": "stdout",
     "output_type": "stream",
     "text": [
      "1\n",
      "2\n",
      "3\n",
      "4\n",
      "5\n",
      "6\n",
      "7\n"
     ]
    }
   ],
   "source": [
    "a=[1,2,3,4,5,6,7]\n",
    "for i in a:\n",
    "    print(i)"
   ]
  },
  {
   "cell_type": "code",
   "execution_count": 19,
   "metadata": {},
   "outputs": [
    {
     "name": "stdout",
     "output_type": "stream",
     "text": [
      "krishna\n",
      "1.0\n",
      "2\n",
      "[1, 2, 3]\n",
      "2j\n",
      "(1, 2, 3)\n",
      "{1, 2, 3}\n"
     ]
    }
   ],
   "source": [
    "b=(\"krishna\",1.0,2,[1,2,3],2j,(1,2,3),{1,2,3})  #iterable\n",
    "for i in b:\n",
    "    print(i)"
   ]
  },
  {
   "cell_type": "code",
   "execution_count": 20,
   "metadata": {},
   "outputs": [
    {
     "data": {
      "text/plain": [
       "range(0, 10)"
      ]
     },
     "execution_count": 20,
     "metadata": {},
     "output_type": "execute_result"
    }
   ],
   "source": [
    "range(10)"
   ]
  },
  {
   "cell_type": "code",
   "execution_count": 24,
   "metadata": {},
   "outputs": [
    {
     "name": "stdout",
     "output_type": "stream",
     "text": [
      "hello world\n"
     ]
    }
   ],
   "source": [
    "# python builtin funtion\n",
    "import builtins\n",
    "builtins.print(\"hello world\")"
   ]
  },
  {
   "cell_type": "code",
   "execution_count": 28,
   "metadata": {},
   "outputs": [
    {
     "name": "stdout",
     "output_type": "stream",
     "text": [
      "0 hello world\n",
      "1 hello world\n",
      "2 hello world\n",
      "3 hello world\n",
      "4 hello world\n",
      "5 hello world\n",
      "6 hello world\n",
      "7 hello world\n",
      "8 hello world\n",
      "9 hello world\n"
     ]
    }
   ],
   "source": [
    "[0,1,2,3,4,5,6,7,8,9]\n",
    "\n",
    "for i in range(10):\n",
    "    print(i,\"hello world\")"
   ]
  },
  {
   "cell_type": "code",
   "execution_count": 29,
   "metadata": {},
   "outputs": [
    {
     "name": "stdout",
     "output_type": "stream",
     "text": [
      "3 hello world\n",
      "4 hello world\n",
      "5 hello world\n",
      "6 hello world\n",
      "7 hello world\n",
      "8 hello world\n",
      "9 hello world\n"
     ]
    }
   ],
   "source": [
    "for i in range(3,10):\n",
    "    print(i,\"hello world\")"
   ]
  },
  {
   "cell_type": "code",
   "execution_count": 31,
   "metadata": {},
   "outputs": [
    {
     "name": "stdout",
     "output_type": "stream",
     "text": [
      "0 pass\n",
      "1 pass\n",
      "2 pass\n",
      "3 hello world\n",
      "4 hello world\n",
      "5 hello world\n",
      "6 hello world\n",
      "7 hello world\n",
      "8 hello world\n",
      "9 hello world\n"
     ]
    }
   ],
   "source": [
    "for i in range(0,10):\n",
    "    if i<=2:\n",
    "        print(i,\"pass\")\n",
    "    else:\n",
    "        print(i,\"hello world\")"
   ]
  },
  {
   "cell_type": "code",
   "execution_count": 32,
   "metadata": {},
   "outputs": [
    {
     "name": "stdout",
     "output_type": "stream",
     "text": [
      "0 hello world\n",
      "1 hello world\n",
      "3 hello world\n",
      "4 hello world\n",
      "6 hello world\n",
      "8 hello world\n"
     ]
    }
   ],
   "source": [
    "for i in range(0,10):\n",
    "    if i in [2,5,7,9]:\n",
    "        pass\n",
    "    else:\n",
    "        print(i,\"hello world\")"
   ]
  },
  {
   "cell_type": "code",
   "execution_count": 34,
   "metadata": {},
   "outputs": [
    {
     "name": "stdout",
     "output_type": "stream",
     "text": [
      "0 hello world\n",
      "1 hello world\n",
      "2 hello world\n",
      "3 hello world\n",
      "4 hello world\n"
     ]
    }
   ],
   "source": [
    "for i in range(10):\n",
    "    if i==5:\n",
    "        break\n",
    "    print(i,\"hello world\")"
   ]
  },
  {
   "cell_type": "code",
   "execution_count": 38,
   "metadata": {},
   "outputs": [
    {
     "name": "stdout",
     "output_type": "stream",
     "text": [
      "0 hello world\n",
      "1 hello world\n",
      "2 hello world\n",
      "3 hello world\n",
      "4 hello world\n",
      "5 hello world\n"
     ]
    }
   ],
   "source": [
    "for i in range(10):\n",
    "    if i>=6:\n",
    "        break\n",
    "    print(i,\"hello world\")"
   ]
  },
  {
   "cell_type": "code",
   "execution_count": 40,
   "metadata": {},
   "outputs": [
    {
     "name": "stdout",
     "output_type": "stream",
     "text": [
      "0 hello world\n",
      "1 hello world\n",
      "2 hello world\n",
      "3 hello world\n",
      "4 hello world\n",
      "5 hello world\n"
     ]
    }
   ],
   "source": [
    "for i in range(10):\n",
    "    print(i,\"hello world\")\n",
    "    if i==5:\n",
    "        break"
   ]
  },
  {
   "cell_type": "code",
   "execution_count": 42,
   "metadata": {},
   "outputs": [],
   "source": [
    "# Pattern"
   ]
  },
  {
   "cell_type": "code",
   "execution_count": 47,
   "metadata": {},
   "outputs": [
    {
     "name": "stdout",
     "output_type": "stream",
     "text": [
      "*****\n",
      "*****\n",
      "*****\n",
      "*****\n",
      "*****\n"
     ]
    }
   ],
   "source": [
    "for i in range(5): # column[0,1,2,3,4]\n",
    "    for j in range(5):# rows[0,1,2,3,4]\n",
    "        print(\"*\",end=\"\")\n",
    "    print()"
   ]
  },
  {
   "cell_type": "code",
   "execution_count": 54,
   "metadata": {},
   "outputs": [
    {
     "name": "stdout",
     "output_type": "stream",
     "text": [
      "*\n",
      "**\n",
      "***\n",
      "****\n",
      "*****\n"
     ]
    }
   ],
   "source": [
    "for i in range(5): # column[0,1,2,3,4]\n",
    "    for j in range(5-(4-i)):# rows[0,1,2,3,4] range(0,5)\n",
    "        print(\"*\",end=\"\")\n",
    "    print()"
   ]
  },
  {
   "cell_type": "code",
   "execution_count": 56,
   "metadata": {},
   "outputs": [
    {
     "name": "stdout",
     "output_type": "stream",
     "text": [
      "*\n",
      "**\n",
      "***\n",
      "****\n"
     ]
    }
   ],
   "source": [
    "for i in range(1,5):\n",
    "    for j in range(5-(5-i)):\n",
    "        print(\"*\",end=\"\")\n",
    "    print()"
   ]
  },
  {
   "cell_type": "code",
   "execution_count": 1,
   "metadata": {},
   "outputs": [
    {
     "name": "stdout",
     "output_type": "stream",
     "text": [
      "k\n",
      "r\n",
      "i\n",
      "s\n",
      "h\n",
      "n\n",
      "a\n"
     ]
    }
   ],
   "source": [
    "# for loop \n",
    "\n",
    "for i in \"krishna\":\n",
    "    print(i)"
   ]
  },
  {
   "cell_type": "code",
   "execution_count": 1,
   "metadata": {},
   "outputs": [
    {
     "name": "stdout",
     "output_type": "stream",
     "text": [
      "k\n",
      "r\n",
      "i\n",
      "s\n",
      "h\n",
      "n\n",
      "a\n"
     ]
    }
   ],
   "source": [
    "a=\"krishna\"\n",
    "i=0\n",
    "while i<7:\n",
    "    print(a[i])\n",
    "    i+=1"
   ]
  },
  {
   "cell_type": "code",
   "execution_count": null,
   "metadata": {},
   "outputs": [],
   "source": []
  }
 ],
 "metadata": {
  "kernelspec": {
   "display_name": "Python 3",
   "language": "python",
   "name": "python3"
  },
  "language_info": {
   "codemirror_mode": {
    "name": "ipython",
    "version": 3
   },
   "file_extension": ".py",
   "mimetype": "text/x-python",
   "name": "python",
   "nbconvert_exporter": "python",
   "pygments_lexer": "ipython3",
   "version": "3.11.2"
  },
  "orig_nbformat": 4,
  "vscode": {
   "interpreter": {
    "hash": "47ba72d4fb05e28199db6c34b2c0ce05f7d0fccec695ef0642a96a8661cc57fd"
   }
  }
 },
 "nbformat": 4,
 "nbformat_minor": 2
}
